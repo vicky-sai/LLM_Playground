{
 "cells": [
  {
   "cell_type": "markdown",
   "id": "cb5e4140-fdcf-4cab-93b7-5a3a51008fe1",
   "metadata": {},
   "source": [
    "## Set Up Environment - Pip Install"
   ]
  },
  {
   "cell_type": "code",
   "execution_count": 57,
   "id": "a47dae12-5e37-4643-88d1-90d6bc4a9a51",
   "metadata": {
    "scrolled": true
   },
   "outputs": [],
   "source": [
    "!pip install langchain llama-index pypdf faiss-cpu chromadb"
   ]
  },
  {
   "cell_type": "code",
   "execution_count": 58,
   "id": "fbd01513-acab-4317-8a72-50bfaed8a9b4",
   "metadata": {
    "scrolled": true
   },
   "outputs": [],
   "source": [
    "!pip install sentence-transformers langchain-community langchain-huggingface langchain_ollama"
   ]
  },
  {
   "cell_type": "code",
   "execution_count": 59,
   "id": "a68f3880-f33b-4e12-9215-c445590a2001",
   "metadata": {},
   "outputs": [],
   "source": [
    "import os\n",
    "os.environ[\"TOKENIZERS_PARALLELISM\"] = \"false\""
   ]
  },
  {
   "cell_type": "markdown",
   "id": "b99e55b3-d0f9-45c7-b877-1f92eacd27de",
   "metadata": {},
   "source": [
    "## Load the Resume (PDF) as Data Source"
   ]
  },
  {
   "cell_type": "code",
   "execution_count": 60,
   "id": "82118319-d900-43bf-b368-27ceb785a944",
   "metadata": {},
   "outputs": [],
   "source": [
    "from langchain.document_loaders import PyPDFLoader\n",
    "\n",
    "loader = PyPDFLoader(\"Vignesh_R_Resume.pdf\")\n",
    "pages = loader.load()"
   ]
  },
  {
   "cell_type": "markdown",
   "id": "5ac4db41-1e3a-48ca-b4de-7f7ec3b39031",
   "metadata": {},
   "source": [
    "## Chunk & Embed the Text"
   ]
  },
  {
   "cell_type": "code",
   "execution_count": 61,
   "id": "975af48b-98bc-40d5-96d8-26aa1fdc7869",
   "metadata": {},
   "outputs": [],
   "source": [
    "from langchain.text_splitter import RecursiveCharacterTextSplitter\n",
    "from langchain_huggingface import HuggingFaceEmbeddings\n",
    "from langchain.vectorstores import FAISS"
   ]
  },
  {
   "cell_type": "code",
   "execution_count": 62,
   "id": "2976dbde-b904-48c5-b397-90957d5a84ef",
   "metadata": {},
   "outputs": [],
   "source": [
    "# Step 1: Chunk the content\n",
    "text_splitter = RecursiveCharacterTextSplitter(chunk_size=500, chunk_overlap=100)\n",
    "docs = text_splitter.split_documents(pages)"
   ]
  },
  {
   "cell_type": "code",
   "execution_count": 66,
   "id": "5255c8aa-9807-4f4e-893b-a76a39fa9632",
   "metadata": {},
   "outputs": [],
   "source": [
    "# Step 2: Create embeddings\n",
    "embeddings = HuggingFaceEmbeddings(model_name=\"all-mpnet-base-v2\") #all-mpnet-base-v2, all-MiniLM-L6-v2"
   ]
  },
  {
   "cell_type": "code",
   "execution_count": 67,
   "id": "f8c2230f-8e20-4c41-9075-92418a704b7e",
   "metadata": {},
   "outputs": [],
   "source": [
    "# Step 3: Store in FAISS vector store\n",
    "vectorstore = FAISS.from_documents(docs, embedding=embeddings)"
   ]
  },
  {
   "cell_type": "markdown",
   "id": "c5142b28-24ee-4a41-8cfd-24668c5c7d9d",
   "metadata": {},
   "source": [
    "## Connect to Ollama Model"
   ]
  },
  {
   "cell_type": "code",
   "execution_count": 68,
   "id": "e194c317-159d-4d8a-9cf4-d363686d0080",
   "metadata": {},
   "outputs": [],
   "source": [
    "from langchain_community.llms import Ollama\n",
    "\n",
    "llm = Ollama(model=\"gemma3:4b\")"
   ]
  },
  {
   "cell_type": "markdown",
   "id": "ff21f0c9-ea25-4e50-a81b-52e098468d38",
   "metadata": {},
   "source": [
    "## Build the RetrievalQA Pipeline"
   ]
  },
  {
   "cell_type": "code",
   "execution_count": 69,
   "id": "fc1c5339-6e91-4938-aa5b-1c569b55c4c2",
   "metadata": {},
   "outputs": [],
   "source": [
    "from langchain.chains import RetrievalQA\n",
    "\n",
    "qa_chain = RetrievalQA.from_chain_type(\n",
    "    llm=llm,\n",
    "    retriever=vectorstore.as_retriever(),\n",
    "    return_source_documents=True\n",
    ")"
   ]
  },
  {
   "cell_type": "markdown",
   "id": "49459839-3838-47ca-b2c9-f51c6946f65e",
   "metadata": {},
   "source": [
    "## Ask Questions About the Resume"
   ]
  },
  {
   "cell_type": "code",
   "execution_count": 70,
   "id": "28d5af5e-fd8a-4896-bcd2-9dfe51a7ca95",
   "metadata": {},
   "outputs": [
    {
     "data": {
      "text/markdown": [
       "### ✅ 1. What are my key skills and technologies mentioned in the resume?\n",
       "**Answer:**\n",
       "Here’s a list of Vignes’ key skills and technologies mentioned in the resume:\n",
       "\n",
       "**Programming Languages:** Python, SQL\n",
       "\n",
       "**Data Technologies & Methodologies:** Data Analytics, Data Engineering, Data Science, Machine Learning, Natural Language Processing (NLP), Computer Vision, Large Language Models (LLM), NLTK, Big Data, Data Modeling, ETL Pipelines, Medallion Architecture, PySpark, Cloud\n",
       "\n",
       "**Platforms & Tools:** AWS, Google Cloud Platform (GCP), Airflow, Apache Kafka, Hadoop, MySQL, Postgres, Tableau, Looker, Power BI, Databricks, Superset, JIRA, Git\n",
       "\n",
       "**Other Relevant Skills:** Automation, Business Analytics, Sales Retrospective Analytics, Effort Score Calculation."
      ],
      "text/plain": [
       "<IPython.core.display.Markdown object>"
      ]
     },
     "metadata": {},
     "output_type": "display_data"
    },
    {
     "data": {
      "text/markdown": [
       "### ✅ 2. What kind of projects have I worked on?\n",
       "**Answer:**\n",
       "Based on the provided context, V Vignesh has worked on projects including:\n",
       "\n",
       "*   **Scalable ETL pipelines and data models:** Architecting and building these for seamless data flow.\n",
       "*   **Sales Retrospective Analytics:** Measuring the effectiveness of sales and marketing campaigns.\n",
       "*   **Effort Score Calculation:** Developing a heuristic model to analyze customer struggles during the customer journey.\n",
       "\n"
      ],
      "text/plain": [
       "<IPython.core.display.Markdown object>"
      ]
     },
     "metadata": {},
     "output_type": "display_data"
    },
    {
     "data": {
      "text/markdown": [
       "### ✅ 3. What job roles am I best suited for?\n",
       "**Answer:**\n",
       "Based on the provided information, V Vignesh is best suited for job roles in Data Analytics, Data Engineering, and Data Science. Specifically, his experience with ETL pipelines, data modeling, Airflow, and various data technologies (SQL, Python, Big Data tools) aligns well with these roles."
      ],
      "text/plain": [
       "<IPython.core.display.Markdown object>"
      ]
     },
     "metadata": {},
     "output_type": "display_data"
    },
    {
     "name": "stdout",
     "output_type": "stream",
     "text": [
      "CPU times: user 285 ms, sys: 807 ms, total: 1.09 s\n",
      "Wall time: 18 s\n"
     ]
    }
   ],
   "source": [
    "%%time\n",
    "from IPython.display import Markdown, display\n",
    "\n",
    "questions = [\n",
    "    \"1. What are my key skills and technologies mentioned in the resume?\",\n",
    "    \"2. What kind of projects have I worked on?\",\n",
    "    \"3. What job roles am I best suited for?\"\n",
    "]\n",
    "\n",
    "for q in questions:\n",
    "    result = qa_chain.invoke(q)\n",
    "    display(Markdown(f\"### ✅ {q}\\n**Answer:**\\n{result['result']}\"))\n"
   ]
  },
  {
   "cell_type": "code",
   "execution_count": 71,
   "id": "f90a5a8f-0994-4a1a-b505-5b58e9e767af",
   "metadata": {},
   "outputs": [
    {
     "name": "stdout",
     "output_type": "stream",
     "text": [
      "\n",
      "Sources used:\n",
      " [Document(id='a22703d6-ca78-4ce0-8671-64c1a3f32646', metadata={'producer': 'react-pdf', 'creator': 'react-pdf', 'creationdate': '2025-07-17T03:51:31+00:00', 'source': 'Vignesh_R_Resume.pdf', 'total_pages': 2, 'page': 0, 'page_label': '1'}, page_content='Data Analytics, Data Engineering & Data Science. \\nSKILLS\\n \\n Python, SQL, Machine Learning, Natural Language Processing (NLP), Computer Vision, Large Language \\nModels (LLM), NLTK, Big Data, Data Analytics, Business Analytics, AWS, Google Cloud Platform, Airflow, \\nApache Kafka, Hadoop, MySQL, NumPy, Pandas, Postgres, Tableau, Looker, Power BI, Data Analysis, JIRA, \\nGit, Analytics, Databricks, GCP, Cloud, PySpark, Superset, Data Engineering, Data Modeling, Automation, Data'), Document(id='a175a73d-f157-4d6a-8914-16f6f4e047b0', metadata={'producer': 'react-pdf', 'creator': 'react-pdf', 'creationdate': '2025-07-17T03:51:31+00:00', 'source': 'Vignesh_R_Resume.pdf', 'total_pages': 2, 'page': 0, 'page_label': '1'}, page_content='VIGNESH R\\n+91 86085 77937  | vckiyer@gmail.com  | Bengaluru, Karnataka, India  | linkedin.com/in/vcky/  | ur.link/viki \\nPROFESSIONAL SUMMARY\\n \\n Thank you for being part of the exceptional 8% who take the time to delve into this section. Versatile Data Wizard \\nwith rich tech experience, fuelled by deep passion for Data Technologies. Exploring opportunities in realms of \\nData Analytics, Data Engineering & Data Science. \\nSKILLS'), Document(id='1426a758-18ec-48f6-99c0-347f7213b4ed', metadata={'producer': 'react-pdf', 'creator': 'react-pdf', 'creationdate': '2025-07-17T03:51:31+00:00', 'source': 'Vignesh_R_Resume.pdf', 'total_pages': 2, 'page': 0, 'page_label': '1'}, page_content='»  Data Engineering  :\\n- Architected & constructed scalable ETL pipelines & Data models, ensuring the seamless flow of data \\nacross various platforms\\n- Managed Airflow, Data Modelling and enabled Medallion Architecture for seamless Data movements\\n»  Lead & Mentored a dedicated team, fostering a collaborative and high-performing environment\\nLinkedIn Bengaluru, KA, India\\nData Analytics Engineer March 2022 - June 2023'), Document(id='21da8d0b-198e-41a9-8124-2a0522f4f915', metadata={'producer': 'react-pdf', 'creator': 'react-pdf', 'creationdate': '2025-07-17T03:51:31+00:00', 'source': 'Vignesh_R_Resume.pdf', 'total_pages': 2, 'page': 1, 'page_label': '2'}, page_content=\"»  Managed ad-hoc Requests : Handled various data-pull requests from several teams inside the organisations, \\nto effectively contribute requesting team with Insights\\nEDUCATION\\n \\n Sri Shakthi Institute of Engineering Technology August 2015 - April 2019\\nBachelor's, Computer Engineering GPA: 7.3\\nCERTIFICATIONS\\n \\n AWS Certified Solutions Architect\\nJava Full Stack Certification\\nJapanese Language\")]\n"
     ]
    }
   ],
   "source": [
    "print(\"\\nSources used:\\n\", result[\"source_documents\"])"
   ]
  },
  {
   "cell_type": "code",
   "execution_count": null,
   "id": "8f1d1f15-a3b7-457c-9fa0-86f745d8cdf9",
   "metadata": {},
   "outputs": [],
   "source": []
  }
 ],
 "metadata": {
  "kernelspec": {
   "display_name": "Python [conda env:base] *",
   "language": "python",
   "name": "conda-base-py"
  },
  "language_info": {
   "codemirror_mode": {
    "name": "ipython",
    "version": 3
   },
   "file_extension": ".py",
   "mimetype": "text/x-python",
   "name": "python",
   "nbconvert_exporter": "python",
   "pygments_lexer": "ipython3",
   "version": "3.12.7"
  }
 },
 "nbformat": 4,
 "nbformat_minor": 5
}
